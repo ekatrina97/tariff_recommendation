{
 "cells": [
  {
   "cell_type": "markdown",
   "metadata": {},
   "source": [
    "## Рекомендация тарифов"
   ]
  },
  {
   "cell_type": "markdown",
   "metadata": {},
   "source": [
    "Компания `Мегалайн`, федеральный оператор сотовой связи, установила: многие клиенты пользуются архивными тарифными планами. Оператор мобильной связи хочет выстроить систему, которая предлагает клиентам на выбор два тарифных плана: *Смарт* или *Ультра*, в зависимости от их поведения. Чтобы пользователям сотовой связи предлагали подходящий тарифный план, нужна чёткая система рекомендации тарифов."
   ]
  },
  {
   "cell_type": "markdown",
   "metadata": {},
   "source": [
    "**Задача проекта** — построить модель для задачи классификации с максимальном большим значением *accuracy*, которая подберёт подходящий тариф. "
   ]
  },
  {
   "cell_type": "markdown",
   "metadata": {},
   "source": [
    "### Шаг 1. Изучение данных из файла"
   ]
  },
  {
   "cell_type": "code",
   "execution_count": 74,
   "metadata": {},
   "outputs": [],
   "source": [
    "# импорт библиотек и методов\n",
    "import pandas as pd\n",
    "from IPython.display import display\n",
    "from sklearn.tree import DecisionTreeClassifier\n",
    "from sklearn.metrics import accuracy_score\n",
    "from sklearn.model_selection import train_test_split\n",
    "from sklearn.ensemble import RandomForestClassifier\n",
    "from sklearn.linear_model import LogisticRegression\n",
    "from sklearn.metrics import mean_squared_error\n",
    "from sklearn.linear_model import LinearRegression\n",
    "from sklearn.ensemble import RandomForestRegressor\n",
    "from sklearn.dummy import DummyClassifier\n",
    "import seaborn as sns\n",
    "import matplotlib.pyplot as plt"
   ]
  },
  {
   "cell_type": "markdown",
   "metadata": {},
   "source": [
    "> Данные о месячном поведении клиентов, которые перешли на тарифы *Смарт* и *Ультра* находятся в файле `users_behavior.csv`"
   ]
  },
  {
   "cell_type": "code",
   "execution_count": 75,
   "metadata": {},
   "outputs": [
    {
     "data": {
      "text/html": [
       "<div>\n",
       "<style scoped>\n",
       "    .dataframe tbody tr th:only-of-type {\n",
       "        vertical-align: middle;\n",
       "    }\n",
       "\n",
       "    .dataframe tbody tr th {\n",
       "        vertical-align: top;\n",
       "    }\n",
       "\n",
       "    .dataframe thead th {\n",
       "        text-align: right;\n",
       "    }\n",
       "</style>\n",
       "<table border=\"1\" class=\"dataframe\">\n",
       "  <thead>\n",
       "    <tr style=\"text-align: right;\">\n",
       "      <th></th>\n",
       "      <th>calls</th>\n",
       "      <th>minutes</th>\n",
       "      <th>messages</th>\n",
       "      <th>mb_used</th>\n",
       "      <th>is_ultra</th>\n",
       "    </tr>\n",
       "  </thead>\n",
       "  <tbody>\n",
       "    <tr>\n",
       "      <td>0</td>\n",
       "      <td>40.0</td>\n",
       "      <td>311.90</td>\n",
       "      <td>83.0</td>\n",
       "      <td>19915.42</td>\n",
       "      <td>0</td>\n",
       "    </tr>\n",
       "    <tr>\n",
       "      <td>1</td>\n",
       "      <td>85.0</td>\n",
       "      <td>516.75</td>\n",
       "      <td>56.0</td>\n",
       "      <td>22696.96</td>\n",
       "      <td>0</td>\n",
       "    </tr>\n",
       "    <tr>\n",
       "      <td>2</td>\n",
       "      <td>77.0</td>\n",
       "      <td>467.66</td>\n",
       "      <td>86.0</td>\n",
       "      <td>21060.45</td>\n",
       "      <td>0</td>\n",
       "    </tr>\n",
       "    <tr>\n",
       "      <td>3</td>\n",
       "      <td>106.0</td>\n",
       "      <td>745.53</td>\n",
       "      <td>81.0</td>\n",
       "      <td>8437.39</td>\n",
       "      <td>1</td>\n",
       "    </tr>\n",
       "    <tr>\n",
       "      <td>4</td>\n",
       "      <td>66.0</td>\n",
       "      <td>418.74</td>\n",
       "      <td>1.0</td>\n",
       "      <td>14502.75</td>\n",
       "      <td>0</td>\n",
       "    </tr>\n",
       "  </tbody>\n",
       "</table>\n",
       "</div>"
      ],
      "text/plain": [
       "   calls  minutes  messages   mb_used  is_ultra\n",
       "0   40.0   311.90      83.0  19915.42         0\n",
       "1   85.0   516.75      56.0  22696.96         0\n",
       "2   77.0   467.66      86.0  21060.45         0\n",
       "3  106.0   745.53      81.0   8437.39         1\n",
       "4   66.0   418.74       1.0  14502.75         0"
      ]
     },
     "execution_count": 75,
     "metadata": {},
     "output_type": "execute_result"
    }
   ],
   "source": [
    "# чтение файла и вывод первых пяти строк\n",
    "df = pd.read_csv('/datasets/users_behavior.csv')\n",
    "df.head()"
   ]
  },
  {
   "cell_type": "markdown",
   "metadata": {},
   "source": [
    "**Исходные данные:**"
   ]
  },
  {
   "cell_type": "markdown",
   "metadata": {},
   "source": [
    "Таблица `users_behavior`"
   ]
  },
  {
   "cell_type": "markdown",
   "metadata": {},
   "source": [
    "* *calls* — количество звонков, совершенных польователем\n",
    "* *minutes* — суммарная длительность звонков в минутах\n",
    "* *messages* — количество отправленных сообщений\n",
    "* *mb_used* — объём потраченного интернет-трафика (в мегабайтах)\n",
    "* *is_ultra* — тариф пользователя (1 — тариф *Ультра*, 0 — тариф *Смарт*)"
   ]
  },
  {
   "cell_type": "markdown",
   "metadata": {},
   "source": [
    "**Описание тарифов**:\n",
    "\n",
    "Тариф «Смарт»\n",
    "* *Ежемесячная плата:* 550 рублей\n",
    "* Включено 500 минут разговора, 50 сообщений и 15 Гб интернет-трафика\n",
    "* *Стоимость услуг сверх тарифного пакета:* 1. минута разговора: 3 рубля («Мегалайн» всегда округляет вверх значения минут и мегабайтов. Если пользователь проговорил всего 1 секунду, в тарифе засчитывается целая минута); 2. сообщение: 3 рубля; 3. 1 Гб интернет-трафика: 200 рублей.\n",
    "\n",
    "Тариф «Ультра»\n",
    "* *Ежемесячная плата:* 1950 рублей\n",
    "* Включено 3000 минут разговора, 1000 сообщений и 30 Гб интернет-трафика\n",
    "* *Стоимость услуг сверх тарифного пакета*: 1. минута разговора: 1 рубль; 2. сообщение: 1 рубль; 3. 1 Гб интернет-трафика: 150 рублей.\n",
    "\n",
    ">Примечание:\n",
    ">«Мегалайн» всегда округляет секунды до минут, а мегабайты — до гигабайт. Каждый звонок округляется отдельно: даже если он >длился всего 1 секунду, будет засчитан как 1 минута.\n",
    ">Для веб-трафика отдельные сессии не считаются. Вместо этого общая сумма за месяц округляется в бо́льшую сторону. Если абонент >использует 1025 мегабайт в этом месяце, с него возьмут плату за 2 гигабайта."
   ]
  },
  {
   "cell_type": "code",
   "execution_count": 76,
   "metadata": {},
   "outputs": [
    {
     "name": "stdout",
     "output_type": "stream",
     "text": [
      "<class 'pandas.core.frame.DataFrame'>\n",
      "RangeIndex: 3214 entries, 0 to 3213\n",
      "Data columns (total 5 columns):\n",
      "calls       3214 non-null float64\n",
      "minutes     3214 non-null float64\n",
      "messages    3214 non-null float64\n",
      "mb_used     3214 non-null float64\n",
      "is_ultra    3214 non-null int64\n",
      "dtypes: float64(4), int64(1)\n",
      "memory usage: 125.7 KB\n"
     ]
    }
   ],
   "source": [
    "# получение общей информации о данных в таблице\n",
    "df.info()"
   ]
  },
  {
   "cell_type": "code",
   "execution_count": 77,
   "metadata": {
    "scrolled": true
   },
   "outputs": [
    {
     "data": {
      "text/html": [
       "<div>\n",
       "<style scoped>\n",
       "    .dataframe tbody tr th:only-of-type {\n",
       "        vertical-align: middle;\n",
       "    }\n",
       "\n",
       "    .dataframe tbody tr th {\n",
       "        vertical-align: top;\n",
       "    }\n",
       "\n",
       "    .dataframe thead th {\n",
       "        text-align: right;\n",
       "    }\n",
       "</style>\n",
       "<table border=\"1\" class=\"dataframe\">\n",
       "  <thead>\n",
       "    <tr style=\"text-align: right;\">\n",
       "      <th></th>\n",
       "      <th>calls</th>\n",
       "      <th>minutes</th>\n",
       "      <th>messages</th>\n",
       "      <th>mb_used</th>\n",
       "      <th>is_ultra</th>\n",
       "    </tr>\n",
       "  </thead>\n",
       "  <tbody>\n",
       "    <tr>\n",
       "      <td>count</td>\n",
       "      <td>3214.000000</td>\n",
       "      <td>3214.000000</td>\n",
       "      <td>3214.000000</td>\n",
       "      <td>3214.000000</td>\n",
       "      <td>3214.000000</td>\n",
       "    </tr>\n",
       "    <tr>\n",
       "      <td>mean</td>\n",
       "      <td>63.038892</td>\n",
       "      <td>438.208787</td>\n",
       "      <td>38.281269</td>\n",
       "      <td>17207.673836</td>\n",
       "      <td>0.306472</td>\n",
       "    </tr>\n",
       "    <tr>\n",
       "      <td>std</td>\n",
       "      <td>33.236368</td>\n",
       "      <td>234.569872</td>\n",
       "      <td>36.148326</td>\n",
       "      <td>7570.968246</td>\n",
       "      <td>0.461100</td>\n",
       "    </tr>\n",
       "    <tr>\n",
       "      <td>min</td>\n",
       "      <td>0.000000</td>\n",
       "      <td>0.000000</td>\n",
       "      <td>0.000000</td>\n",
       "      <td>0.000000</td>\n",
       "      <td>0.000000</td>\n",
       "    </tr>\n",
       "    <tr>\n",
       "      <td>25%</td>\n",
       "      <td>40.000000</td>\n",
       "      <td>274.575000</td>\n",
       "      <td>9.000000</td>\n",
       "      <td>12491.902500</td>\n",
       "      <td>0.000000</td>\n",
       "    </tr>\n",
       "    <tr>\n",
       "      <td>50%</td>\n",
       "      <td>62.000000</td>\n",
       "      <td>430.600000</td>\n",
       "      <td>30.000000</td>\n",
       "      <td>16943.235000</td>\n",
       "      <td>0.000000</td>\n",
       "    </tr>\n",
       "    <tr>\n",
       "      <td>75%</td>\n",
       "      <td>82.000000</td>\n",
       "      <td>571.927500</td>\n",
       "      <td>57.000000</td>\n",
       "      <td>21424.700000</td>\n",
       "      <td>1.000000</td>\n",
       "    </tr>\n",
       "    <tr>\n",
       "      <td>max</td>\n",
       "      <td>244.000000</td>\n",
       "      <td>1632.060000</td>\n",
       "      <td>224.000000</td>\n",
       "      <td>49745.730000</td>\n",
       "      <td>1.000000</td>\n",
       "    </tr>\n",
       "  </tbody>\n",
       "</table>\n",
       "</div>"
      ],
      "text/plain": [
       "             calls      minutes     messages       mb_used     is_ultra\n",
       "count  3214.000000  3214.000000  3214.000000   3214.000000  3214.000000\n",
       "mean     63.038892   438.208787    38.281269  17207.673836     0.306472\n",
       "std      33.236368   234.569872    36.148326   7570.968246     0.461100\n",
       "min       0.000000     0.000000     0.000000      0.000000     0.000000\n",
       "25%      40.000000   274.575000     9.000000  12491.902500     0.000000\n",
       "50%      62.000000   430.600000    30.000000  16943.235000     0.000000\n",
       "75%      82.000000   571.927500    57.000000  21424.700000     1.000000\n",
       "max     244.000000  1632.060000   224.000000  49745.730000     1.000000"
      ]
     },
     "execution_count": 77,
     "metadata": {},
     "output_type": "execute_result"
    }
   ],
   "source": [
    "# получение сводки числовых значений данных в таблице\n",
    "df.describe()"
   ]
  },
  {
   "cell_type": "markdown",
   "metadata": {},
   "source": [
    "Проанализируем полученную информацию. Таблица содержит 5 колонок с типами данных:\n",
    "* `float64`\n",
    "* `int64`\n",
    "\n",
    "В названиях колонок использован стиль наименования переменных *lower_case_with_underscores*. Нарушения стиля названия имен отсутствуют. Количество значений в стоблцах таблицы не различается. Минимальные нулевые значения в колонках могут говорить о том, что клиент сотовой связи не пользовался данными видами услуг.\n",
    "\n",
    "Поскольку мы пользуемся данными из проекта `Статистический анализ данных`, предобработка информации не поданобится."
   ]
  },
  {
   "cell_type": "markdown",
   "metadata": {},
   "source": [
    "**Вывод:**"
   ]
  },
  {
   "cell_type": "markdown",
   "metadata": {},
   "source": [
    "Данные из файла изучены. Предобработка не требуется."
   ]
  },
  {
   "cell_type": "markdown",
   "metadata": {},
   "source": [
    "### Шаг 2. Разбиение данных на выборки"
   ]
  },
  {
   "cell_type": "markdown",
   "metadata": {},
   "source": [
    "Разобьём данные на три части: *обучающую*, *валидационную* и *тестовую*. Исходные данные разобьём в соотношении 3:1:1, т.е. обучающая выборка составит 60% данных, валидационная и тестовая — по 20% каждая."
   ]
  },
  {
   "cell_type": "markdown",
   "metadata": {},
   "source": [
    "Для начала разделим исходные данные на признаки (все, кроме колонки `is_ultra`) и целевой признак (колонка `is_ultra`). Далее поделим данные в соотношении 3:2, а затем меньшую поделим в соотношении 1:1, т.е. пополам. В итоге данные буду разбиты в соотношении 3:1:1."
   ]
  },
  {
   "cell_type": "code",
   "execution_count": 78,
   "metadata": {},
   "outputs": [],
   "source": [
    "# разбиение данных на признаки и целевой признак\n",
    "features = df.drop(['is_ultra'], axis=1)\n",
    "target = df['is_ultra']"
   ]
  },
  {
   "cell_type": "code",
   "execution_count": 79,
   "metadata": {},
   "outputs": [
    {
     "name": "stdout",
     "output_type": "stream",
     "text": [
      "(1928, 4) (1928,)\n",
      "(643, 4) (643,)\n",
      "(643, 4) (643,)\n"
     ]
    }
   ],
   "source": [
    "# разбиение данных на три выборки\n",
    "features_train, features_valid, target_train, target_valid = train_test_split(\n",
    "    features, target, test_size=0.4, random_state=12345)\n",
    "features_valid, features_test, target_valid, target_test = train_test_split(\n",
    "    features_valid, target_valid, test_size=0.5, random_state=12345)\n",
    "\n",
    "# проверка размеров полученных наборов данных\n",
    "features_ = [features_train, features_valid, features_test]\n",
    "target_ = [target_train, target_valid, target_test]\n",
    "\n",
    "for f,t in zip(features_, target_):\n",
    "    print(f.shape, t.shape)"
   ]
  },
  {
   "cell_type": "markdown",
   "metadata": {},
   "source": [
    "Теперь в нашем распоряжении имеется обучающий набор данных *features_train* и целевой признак *target_train*, который нужно предсказать по остальным признакам — тариф (1 — *Ультра*, 0 — *Смарт*). Задача относится к классу **обучение с учителем**.\n",
    "\n",
    "Целевой признак категориальный, следовательно, решаем задачу **классификации**. Поскольку категории всего две, то речь идет о **бинарной (двоичной) классификации.**"
   ]
  },
  {
   "cell_type": "markdown",
   "metadata": {},
   "source": [
    "**Вывод:**"
   ]
  },
  {
   "cell_type": "markdown",
   "metadata": {},
   "source": [
    "Данные разбиты на выборки."
   ]
  },
  {
   "cell_type": "markdown",
   "metadata": {},
   "source": [
    "### Шаг 3. Исследование модели"
   ]
  },
  {
   "cell_type": "markdown",
   "metadata": {},
   "source": [
    "Рассмотрим три модели машинного обучения:\n",
    "* `решающее дерево`\n",
    "* `случайный лес`\n",
    "* `логистическая регрессия`\n",
    "\n",
    "По метрике *accuracy*, доле правильных ответов, и скорости работы оценим модели по качеству."
   ]
  },
  {
   "cell_type": "markdown",
   "metadata": {},
   "source": [
    "Каждую модель мы будем обучать на *обучающей выборке features_train, target_train* и проверять на *валидационной выборке features_valid, target_valid*."
   ]
  },
  {
   "cell_type": "markdown",
   "metadata": {},
   "source": [
    "Первой рассмотрим модель `решающего дерева` с варьирующимся гиперпараметром глубина дерева *max_depth*. Будем перебирать в цикле деревья с глубной от 1 до 10. Замеряем время работы модели."
   ]
  },
  {
   "cell_type": "code",
   "execution_count": 80,
   "metadata": {
    "scrolled": true
   },
   "outputs": [
    {
     "name": "stdout",
     "output_type": "stream",
     "text": [
      "Accuracy лучшей модели:\n",
      "0.79\n",
      "Глубина дерева max_depth лучшей модели:\n",
      "3\n",
      "CPU times: user 52.1 ms, sys: 0 ns, total: 52.1 ms\n",
      "Wall time: 78.2 ms\n"
     ]
    }
   ],
   "source": [
    "%%time\n",
    "# модель решающего дерева\n",
    "best_model = None\n",
    "best_result = 0\n",
    "best_max_depth = 0\n",
    "for depth in range(1, 11):\n",
    "    model = DecisionTreeClassifier(random_state=12345, max_depth=depth)\n",
    "    model.fit(features_train, target_train)\n",
    "    predictions = model.predict(features_valid)\n",
    "    result = accuracy_score(target_valid, predictions)\n",
    "    if result > best_result:\n",
    "        best_model = model\n",
    "        best_result = result\n",
    "        best_max_depth = depth\n",
    "        \n",
    "print('Accuracy лучшей модели:', round(best_result, 2), 'Глубина дерева max_depth лучшей модели:', best_max_depth, sep='\\n')"
   ]
  },
  {
   "cell_type": "markdown",
   "metadata": {},
   "source": [
    "Второй рассмотрим модель `случайного леса` с изменяющимися гиперпараметрами:\n",
    "* количество деревьев *n_estimators* (от 10 до 50 с шагом 10)\n",
    "* глубина дерева *max_depth* (от 1 до 10)\n",
    "\n",
    "Также замеряем время работы модели."
   ]
  },
  {
   "cell_type": "code",
   "execution_count": 81,
   "metadata": {
    "scrolled": true
   },
   "outputs": [
    {
     "name": "stdout",
     "output_type": "stream",
     "text": [
      "Accuracy лучшей модели:\n",
      "0.81\n",
      "Глубина дерева max_depth лучшей модели:\n",
      "8\n",
      "Количество деревьев n_estimators лучшей модели:\n",
      "40\n",
      "CPU times: user 3.31 s, sys: 1.86 ms, total: 3.31 s\n",
      "Wall time: 3.33 s\n"
     ]
    }
   ],
   "source": [
    "%%time\n",
    "# модель случайного леса\n",
    "best_model = None\n",
    "best_result = 0\n",
    "best_max_depth = 0\n",
    "best_n_estimators = 0\n",
    "for est in range(10, 51, 10):\n",
    "    for depth in range(1, 11):\n",
    "        model = RandomForestClassifier(random_state=12345, n_estimators=est, max_depth=depth)\n",
    "        model.fit(features_train, target_train)\n",
    "        predictions = model.predict(features_valid)\n",
    "        result = accuracy_score(target_valid, predictions)\n",
    "        if result > best_result:\n",
    "            best_model = model\n",
    "            best_result = result\n",
    "            best_max_depth = depth\n",
    "            best_n_estimators = est\n",
    "print('Accuracy лучшей модели:', round(best_result, 2),\n",
    "      'Глубина дерева max_depth лучшей модели:', best_max_depth,\n",
    "     'Количество деревьев n_estimators лучшей модели:', best_n_estimators, sep='\\n')"
   ]
  },
  {
   "cell_type": "markdown",
   "metadata": {},
   "source": [
    "Последней рассмотрим модель `логистической регрессии`."
   ]
  },
  {
   "cell_type": "code",
   "execution_count": 82,
   "metadata": {},
   "outputs": [
    {
     "name": "stdout",
     "output_type": "stream",
     "text": [
      "Accuracy модели логистической регрессии: 0.71\n",
      "CPU times: user 13.2 ms, sys: 4.09 ms, total: 17.3 ms\n",
      "Wall time: 16.1 ms\n"
     ]
    }
   ],
   "source": [
    "%%time\n",
    "# модель логистической регрессии\n",
    "model = LogisticRegression(random_state=12345, solver='lbfgs')\n",
    "model.fit(features_train, target_train)\n",
    "predictions = model.predict(features_valid)\n",
    "result = accuracy_score(target_valid, predictions)\n",
    "\n",
    "print('Accuracy модели логистической регрессии:', round(result, 2))"
   ]
  },
  {
   "cell_type": "markdown",
   "metadata": {},
   "source": [
    "> В моделях гиперпараметр *random_state* можно задавать любым числом, главное — задать гиперпараметр, чтобы сохранить результат обучения."
   ]
  },
  {
   "cell_type": "markdown",
   "metadata": {},
   "source": [
    "**Вывод:**"
   ]
  },
  {
   "cell_type": "markdown",
   "metadata": {},
   "source": [
    "Самая высокая доля правильных ответов *accuracy* у модели `случайного леса` — 81%, однако скорость у данной модели самая низкая — 5.16 секунд. Самая высокая скорость работы у модели `логистической регресси`, а *acurracy* уступает модели `случайного леса` на 5%. У модели `решающего дерева` *accuracy* выше модели `логистической регрессии` на 5%, но скорость работы ниже в 3 раза."
   ]
  },
  {
   "cell_type": "markdown",
   "metadata": {},
   "source": [
    "### Шаг 4. Проверка модели на тестовой выборке"
   ]
  },
  {
   "cell_type": "markdown",
   "metadata": {},
   "source": [
    "Чтобы убедиться в правильности работы моделей машинного обучения, проверим их работу на *тестовой выборке features_test, target_test*. Зададим моделям те гиперпараметры, с которыми были получили наивысшие значения *accuracy*."
   ]
  },
  {
   "cell_type": "code",
   "execution_count": 83,
   "metadata": {},
   "outputs": [
    {
     "name": "stdout",
     "output_type": "stream",
     "text": [
      "Accuracy модели решающего дерева: 0.78\n"
     ]
    }
   ],
   "source": [
    "# тестирование работы модели решающего дерева\n",
    "model = DecisionTreeClassifier(random_state=12345, max_depth=3)\n",
    "model.fit(features_train, target_train)\n",
    "predictions = model.predict(features_test)\n",
    "result = accuracy_score(target_test, predictions)\n",
    "\n",
    "print('Accuracy модели решающего дерева:', round(result, 2))"
   ]
  },
  {
   "cell_type": "code",
   "execution_count": 84,
   "metadata": {},
   "outputs": [
    {
     "name": "stdout",
     "output_type": "stream",
     "text": [
      "Accuracy модели случайного леса: 0.8\n"
     ]
    }
   ],
   "source": [
    "# тестирование работы модели случайного леса\n",
    "model = RandomForestClassifier(random_state=12345, n_estimators=40, max_depth=8)\n",
    "model.fit(features_train, target_train)\n",
    "predictions = model.predict(features_test)\n",
    "result = accuracy_score(target_test, predictions)\n",
    "\n",
    "print('Accuracy модели случайного леса:', round(result, 2))"
   ]
  },
  {
   "cell_type": "code",
   "execution_count": 102,
   "metadata": {},
   "outputs": [
    {
     "name": "stdout",
     "output_type": "stream",
     "text": [
      "Accuracy модели логистической регрессии: 0.68\n"
     ]
    }
   ],
   "source": [
    "# тестирование работы модели логистической регрессии\n",
    "model = LogisticRegression(random_state=12345, solver='lbfgs')\n",
    "model.fit(features_train, target_train)\n",
    "predictions = model.predict(features_test)\n",
    "result = accuracy_score(target_test, predictions)\n",
    "\n",
    "print('Accuracy модели логистической регрессии:', round(result, 2))"
   ]
  },
  {
   "cell_type": "markdown",
   "metadata": {},
   "source": [
    "**Вывод:**"
   ]
  },
  {
   "cell_type": "markdown",
   "metadata": {},
   "source": [
    "Результаты работы моделей машинного обучения на тестовой выборке отличаются от результатов работы на валидационной выборке на 1—3% в меньшую сторону. Это может говорить о *переобучении* модели. Однако разница незначительная, поэтому будем считать, что тестирование прошло успешно."
   ]
  },
  {
   "cell_type": "markdown",
   "metadata": {},
   "source": [
    "### Шаг 5. Проверка модели на адекватность"
   ]
  },
  {
   "cell_type": "markdown",
   "metadata": {},
   "source": [
    "Чтобы оценить адекватность моделей классификации, необходимо сравнить их c константной моделью, которая выдаёт одно и то же число. Будем использовать модель *DummyClassifier()* со значением гиперпараметра *strategy='most_frequent'*. При задании такого значения гиперпараметру модель в методе *.predict()* будет возвращать значение бóльшего класса из переданного в метод *.fit()* целевого признака."
   ]
  },
  {
   "cell_type": "code",
   "execution_count": 100,
   "metadata": {},
   "outputs": [
    {
     "name": "stdout",
     "output_type": "stream",
     "text": [
      "Accuracy модели логистической регрессии: 0.68\n"
     ]
    }
   ],
   "source": [
    "# проверка модели на адекватность\n",
    "model = DummyClassifier(strategy='most_frequent')\n",
    "model.fit(features_train, target_train)\n",
    "predictions = model.predict(features_test)\n",
    "result = accuracy_score(target_test, predictions)\n",
    "\n",
    "print('Accuracy модели логистической регрессии:', round(result, 2))"
   ]
  },
  {
   "cell_type": "markdown",
   "metadata": {},
   "source": [
    "*Accuracy* константной модели должна быть равна доле бóльшего класса целевого признака. Проверим нашу константную модель. Будем использователь метод *.countplot()* библиотеки *seaborn* для графического представления данных и посмотрим долю нулевых значений, используя метод *.mean()*."
   ]
  },
  {
   "cell_type": "code",
   "execution_count": 101,
   "metadata": {},
   "outputs": [
    {
     "data": {
      "text/plain": [
       "Text(0.5, 1.0, 'Диаграмма распределения количества пользователей тарифов \"Смарт\" и \"Ультра\"')"
      ]
     },
     "execution_count": 101,
     "metadata": {},
     "output_type": "execute_result"
    },
    {
     "data": {
      "image/png": "[encoded data removed]",
      "text/plain": [
       "<Figure size 864x432 with 1 Axes>"
      ]
     },
     "metadata": {
      "needs_background": "light"
     },
     "output_type": "display_data"
    }
   ],
   "source": [
    "# графическое представление классового распределение целевого признака\n",
    "data = pd.DataFrame({'is_ultra':target_test})\n",
    "f, ax = plt.subplots(figsize=(12, 6))\n",
    "sns.despine(f)\n",
    "sns.countplot(data=data, x='is_ultra', palette='magma')\n",
    "ax.set_title('Диаграмма распределения количества пользователей тарифов \"Смарт\" и \"Ультра\"')"
   ]
  },
  {
   "cell_type": "code",
   "execution_count": 97,
   "metadata": {
    "scrolled": true
   },
   "outputs": [
    {
     "data": {
      "text/plain": [
       "is_ultra    0.315708\n",
       "dtype: float64"
      ]
     },
     "execution_count": 97,
     "metadata": {},
     "output_type": "execute_result"
    }
   ],
   "source": [
    "# подсчёт доли единичных (тариф 'Ультра') значений\n",
    "data.mean()"
   ]
  },
  {
   "cell_type": "markdown",
   "metadata": {},
   "source": [
    "Если доля пользователей тарифа *Ультра* составляет около 32%, то доля пользователей тарифа *Смарт* составляет 68%, что совпадает со значением *accuracy* модели *DummyClassifier()*. Т.е. константная модель верна."
   ]
  },
  {
   "cell_type": "markdown",
   "metadata": {},
   "source": [
    "**Вывод:**"
   ]
  },
  {
   "cell_type": "markdown",
   "metadata": {},
   "source": [
    "Значения *accuracy* модели *DummyClassifier()* ниже, чем у двух рассмотренных в проекте моделей, проверенных на тестовой выборке. Т.е. вероятность правильно угадать класс целевого признака ниже, чем вероятность предсказать класс с помощью сложных моделей, таких как *решающее дерево и случайный лес*. *Accuracy* модели *логистической регрессии* по результатам итоговой проверки не превышает *accuracy* константной модели, поэтому использовать данную модель нецелесообразно. Проверку на адкватность прошли модели *решающего дерева и случайного леса*."
   ]
  },
  {
   "cell_type": "markdown",
   "metadata": {},
   "source": [
    "### Шаг 6. Общий вывод"
   ]
  },
  {
   "cell_type": "markdown",
   "metadata": {},
   "source": [
    "Наиболее подходящая по критериям модель машинного обучения — **модель случайного леса**, т.к. главным критерием выбора является показатель *accuracy* (доля правильных ответов), который у названной модели принимает максимальное значение среди остальных рассмотренных, а именно 81% на валидационной выборке. Среди рассмотренных моделей случайного леса лучшим показателем *accuracy* обладает модель с гиперпараметрами *n_estimators (количество деревьев)* = 40 и *max_depth (глубина дерева)* = 8. Выбранная модель прошла проверку на тестовой выборке с результатом в 80% метрики качества *accuracy*, также модель прошла проверку на адекватность."
   ]
  }
 ],
 "metadata": {
  "ExecuteTimeLog": [
   {
    "duration": 121,
    "start_time": "2022-01-15T12:30:29.088Z"
   },
   {
    "duration": 1466,
    "start_time": "2022-01-15T12:30:48.224Z"
   },
   {
    "duration": 42,
    "start_time": "2022-01-15T12:30:49.693Z"
   },
   {
    "duration": 10,
    "start_time": "2022-01-15T12:42:18.455Z"
   },
   {
    "duration": 41,
    "start_time": "2022-01-15T12:43:03.032Z"
   },
   {
    "duration": 521,
    "start_time": "2022-01-15T14:00:33.320Z"
   },
   {
    "duration": 10,
    "start_time": "2022-01-15T14:03:59.209Z"
   },
   {
    "duration": 87,
    "start_time": "2022-01-15T14:04:05.242Z"
   },
   {
    "duration": 280,
    "start_time": "2022-01-15T14:04:09.809Z"
   },
   {
    "duration": 12,
    "start_time": "2022-01-15T14:12:16.597Z"
   },
   {
    "duration": 11,
    "start_time": "2022-01-15T14:12:25.028Z"
   },
   {
    "duration": 14,
    "start_time": "2022-01-15T14:12:31.732Z"
   },
   {
    "duration": 15,
    "start_time": "2022-01-15T14:13:14.629Z"
   },
   {
    "duration": 23,
    "start_time": "2022-01-15T14:13:54.677Z"
   },
   {
    "duration": 16,
    "start_time": "2022-01-15T14:16:13.748Z"
   },
   {
    "duration": 12,
    "start_time": "2022-01-15T14:16:37.911Z"
   },
   {
    "duration": 12,
    "start_time": "2022-01-15T14:16:44.226Z"
   },
   {
    "duration": 11,
    "start_time": "2022-01-15T14:26:57.818Z"
   },
   {
    "duration": 334,
    "start_time": "2022-01-15T14:48:22.637Z"
   },
   {
    "duration": 312,
    "start_time": "2022-01-15T14:49:03.056Z"
   },
   {
    "duration": 264,
    "start_time": "2022-01-15T14:50:12.815Z"
   },
   {
    "duration": 10,
    "start_time": "2022-01-15T14:50:49.517Z"
   },
   {
    "duration": 6,
    "start_time": "2022-01-15T14:51:13.341Z"
   },
   {
    "duration": 6,
    "start_time": "2022-01-15T14:52:01.647Z"
   },
   {
    "duration": 4,
    "start_time": "2022-01-15T14:52:40.241Z"
   },
   {
    "duration": 34,
    "start_time": "2022-01-15T14:52:40.248Z"
   },
   {
    "duration": 8,
    "start_time": "2022-01-15T14:52:40.285Z"
   },
   {
    "duration": 34,
    "start_time": "2022-01-15T14:52:40.296Z"
   },
   {
    "duration": 5,
    "start_time": "2022-01-15T14:52:42.908Z"
   },
   {
    "duration": 12,
    "start_time": "2022-01-15T14:52:51.725Z"
   },
   {
    "duration": 6,
    "start_time": "2022-01-15T14:53:01.837Z"
   },
   {
    "duration": 7,
    "start_time": "2022-01-15T14:55:37.003Z"
   },
   {
    "duration": 7,
    "start_time": "2022-01-15T14:56:14.938Z"
   },
   {
    "duration": 6,
    "start_time": "2022-01-15T14:59:00.185Z"
   },
   {
    "duration": 8,
    "start_time": "2022-01-15T14:59:31.657Z"
   },
   {
    "duration": 12,
    "start_time": "2022-01-15T14:59:34.281Z"
   },
   {
    "duration": 7,
    "start_time": "2022-01-15T14:59:40.280Z"
   },
   {
    "duration": 9,
    "start_time": "2022-01-15T14:59:42.920Z"
   },
   {
    "duration": 16,
    "start_time": "2022-01-15T14:59:58.440Z"
   },
   {
    "duration": 12,
    "start_time": "2022-01-15T15:00:12.552Z"
   },
   {
    "duration": 6,
    "start_time": "2022-01-15T15:00:15.737Z"
   },
   {
    "duration": 285,
    "start_time": "2022-01-15T15:00:24.345Z"
   },
   {
    "duration": 6,
    "start_time": "2022-01-15T15:00:37.516Z"
   },
   {
    "duration": 35,
    "start_time": "2022-01-15T15:00:37.526Z"
   },
   {
    "duration": 8,
    "start_time": "2022-01-15T15:00:37.565Z"
   },
   {
    "duration": 32,
    "start_time": "2022-01-15T15:00:37.576Z"
   },
   {
    "duration": 4,
    "start_time": "2022-01-15T15:00:37.611Z"
   },
   {
    "duration": 50,
    "start_time": "2022-01-15T15:00:37.618Z"
   },
   {
    "duration": 7,
    "start_time": "2022-01-15T15:00:37.670Z"
   },
   {
    "duration": 7,
    "start_time": "2022-01-15T15:00:37.680Z"
   },
   {
    "duration": 11,
    "start_time": "2022-01-15T15:00:37.690Z"
   },
   {
    "duration": 6,
    "start_time": "2022-01-15T15:00:37.704Z"
   },
   {
    "duration": 7,
    "start_time": "2022-01-15T15:00:37.763Z"
   },
   {
    "duration": 14,
    "start_time": "2022-01-15T15:00:37.773Z"
   },
   {
    "duration": 12,
    "start_time": "2022-01-15T15:00:37.789Z"
   },
   {
    "duration": 268,
    "start_time": "2022-01-15T15:01:08.139Z"
   },
   {
    "duration": 9,
    "start_time": "2022-01-15T15:01:29.304Z"
   },
   {
    "duration": 7,
    "start_time": "2022-01-15T15:02:43.176Z"
   },
   {
    "duration": 7,
    "start_time": "2022-01-15T15:03:16.410Z"
   },
   {
    "duration": 45,
    "start_time": "2022-01-15T15:03:16.421Z"
   },
   {
    "duration": 13,
    "start_time": "2022-01-15T15:03:16.470Z"
   },
   {
    "duration": 36,
    "start_time": "2022-01-15T15:03:16.487Z"
   },
   {
    "duration": 5,
    "start_time": "2022-01-15T15:03:16.563Z"
   },
   {
    "duration": 11,
    "start_time": "2022-01-15T15:03:16.570Z"
   },
   {
    "duration": 6,
    "start_time": "2022-01-15T15:03:16.584Z"
   },
   {
    "duration": 59,
    "start_time": "2022-01-15T15:03:24.881Z"
   },
   {
    "duration": 83,
    "start_time": "2022-01-15T15:03:39.719Z"
   },
   {
    "duration": 191,
    "start_time": "2022-01-15T15:03:50.401Z"
   },
   {
    "duration": 1169,
    "start_time": "2022-01-15T15:03:55.623Z"
   },
   {
    "duration": 89,
    "start_time": "2022-01-15T15:04:02.135Z"
   },
   {
    "duration": 79,
    "start_time": "2022-01-15T15:04:40.055Z"
   },
   {
    "duration": 96,
    "start_time": "2022-01-15T15:12:19.922Z"
   },
   {
    "duration": 312,
    "start_time": "2022-01-15T15:12:55.875Z"
   },
   {
    "duration": 5316,
    "start_time": "2022-01-15T15:13:24.803Z"
   },
   {
    "duration": 963,
    "start_time": "2022-01-15T15:13:53.664Z"
   },
   {
    "duration": 656,
    "start_time": "2022-01-15T15:14:02.897Z"
   },
   {
    "duration": 1113,
    "start_time": "2022-01-15T15:14:14.080Z"
   },
   {
    "duration": 656,
    "start_time": "2022-01-15T15:14:25.041Z"
   },
   {
    "duration": 88,
    "start_time": "2022-01-15T15:14:45.505Z"
   },
   {
    "duration": 681,
    "start_time": "2022-01-15T15:15:09.760Z"
   },
   {
    "duration": 1243,
    "start_time": "2022-01-15T15:15:20.157Z"
   },
   {
    "duration": 646,
    "start_time": "2022-01-15T15:15:31.680Z"
   },
   {
    "duration": 380,
    "start_time": "2022-01-15T15:16:05.152Z"
   },
   {
    "duration": 350,
    "start_time": "2022-01-15T15:16:14.778Z"
   },
   {
    "duration": 90,
    "start_time": "2022-01-15T15:16:38.495Z"
   },
   {
    "duration": 5711,
    "start_time": "2022-01-15T15:16:56.719Z"
   },
   {
    "duration": 81,
    "start_time": "2022-01-15T15:17:57.454Z"
   },
   {
    "duration": 107,
    "start_time": "2022-01-15T15:18:03.790Z"
   },
   {
    "duration": 78,
    "start_time": "2022-01-15T15:19:10.078Z"
   },
   {
    "duration": 87,
    "start_time": "2022-01-15T15:19:21.612Z"
   },
   {
    "duration": 79,
    "start_time": "2022-01-15T15:19:30.173Z"
   },
   {
    "duration": 6890,
    "start_time": "2022-01-15T15:23:16.315Z"
   },
   {
    "duration": 4,
    "start_time": "2022-01-15T15:23:33.228Z"
   },
   {
    "duration": 90,
    "start_time": "2022-01-15T15:23:39.083Z"
   },
   {
    "duration": 5395,
    "start_time": "2022-01-15T15:25:21.197Z"
   },
   {
    "duration": 81,
    "start_time": "2022-01-15T15:26:20.458Z"
   },
   {
    "duration": 5243,
    "start_time": "2022-01-15T15:26:31.755Z"
   },
   {
    "duration": 259,
    "start_time": "2022-01-15T15:29:23.113Z"
   },
   {
    "duration": 261,
    "start_time": "2022-01-15T15:29:31.816Z"
   },
   {
    "duration": 31,
    "start_time": "2022-01-15T15:29:51.384Z"
   },
   {
    "duration": 27,
    "start_time": "2022-01-15T15:30:04.936Z"
   },
   {
    "duration": 26,
    "start_time": "2022-01-15T15:30:18.954Z"
   },
   {
    "duration": 119,
    "start_time": "2022-01-15T15:34:44.198Z"
   },
   {
    "duration": 86,
    "start_time": "2022-01-15T15:34:52.791Z"
   },
   {
    "duration": 84,
    "start_time": "2022-01-15T15:37:22.675Z"
   },
   {
    "duration": 13,
    "start_time": "2022-01-15T15:38:40.275Z"
   },
   {
    "duration": 163,
    "start_time": "2022-01-15T15:40:37.106Z"
   },
   {
    "duration": 166,
    "start_time": "2022-01-15T15:41:12.769Z"
   },
   {
    "duration": 33,
    "start_time": "2022-01-15T15:41:49.361Z"
   },
   {
    "duration": 6,
    "start_time": "2022-01-15T17:04:18.013Z"
   },
   {
    "duration": 34,
    "start_time": "2022-01-15T17:04:18.022Z"
   },
   {
    "duration": 10,
    "start_time": "2022-01-15T17:04:18.077Z"
   },
   {
    "duration": 34,
    "start_time": "2022-01-15T17:04:18.090Z"
   },
   {
    "duration": 5,
    "start_time": "2022-01-15T17:04:18.128Z"
   },
   {
    "duration": 36,
    "start_time": "2022-01-15T17:04:18.135Z"
   },
   {
    "duration": 80,
    "start_time": "2022-01-15T17:04:34.087Z"
   },
   {
    "duration": 7,
    "start_time": "2022-01-15T17:14:44.732Z"
   },
   {
    "duration": 7,
    "start_time": "2022-01-15T17:14:50.924Z"
   },
   {
    "duration": 7,
    "start_time": "2022-01-15T17:14:58.107Z"
   },
   {
    "duration": 8,
    "start_time": "2022-01-15T17:15:08.028Z"
   },
   {
    "duration": 32,
    "start_time": "2022-01-15T17:15:12.604Z"
   },
   {
    "duration": 7,
    "start_time": "2022-01-15T17:15:17.084Z"
   },
   {
    "duration": 29,
    "start_time": "2022-01-15T17:15:38.716Z"
   },
   {
    "duration": 7,
    "start_time": "2022-01-15T17:15:47.884Z"
   },
   {
    "duration": 7,
    "start_time": "2022-01-15T17:15:54.517Z"
   },
   {
    "duration": 6,
    "start_time": "2022-01-15T17:15:59.963Z"
   },
   {
    "duration": 28,
    "start_time": "2022-01-15T17:16:17.179Z"
   },
   {
    "duration": 9,
    "start_time": "2022-01-15T17:17:11.418Z"
   },
   {
    "duration": 26,
    "start_time": "2022-01-15T17:17:34.955Z"
   },
   {
    "duration": 26,
    "start_time": "2022-01-15T17:17:43.305Z"
   },
   {
    "duration": 28,
    "start_time": "2022-01-15T17:17:47.675Z"
   },
   {
    "duration": 28,
    "start_time": "2022-01-15T17:17:51.547Z"
   },
   {
    "duration": 27,
    "start_time": "2022-01-15T17:17:54.313Z"
   },
   {
    "duration": 27,
    "start_time": "2022-01-15T17:17:56.763Z"
   },
   {
    "duration": 28,
    "start_time": "2022-01-15T17:18:15.436Z"
   },
   {
    "duration": 31,
    "start_time": "2022-01-15T17:18:19.289Z"
   },
   {
    "duration": 10,
    "start_time": "2022-01-15T17:18:52.218Z"
   },
   {
    "duration": 4,
    "start_time": "2022-01-15T17:19:07.363Z"
   },
   {
    "duration": 38,
    "start_time": "2022-01-15T17:19:07.370Z"
   },
   {
    "duration": 9,
    "start_time": "2022-01-15T17:19:07.411Z"
   },
   {
    "duration": 61,
    "start_time": "2022-01-15T17:19:07.423Z"
   },
   {
    "duration": 5,
    "start_time": "2022-01-15T17:19:07.487Z"
   },
   {
    "duration": 10,
    "start_time": "2022-01-15T17:19:07.495Z"
   },
   {
    "duration": 11,
    "start_time": "2022-01-15T17:19:12.106Z"
   },
   {
    "duration": 77,
    "start_time": "2022-01-15T17:19:28.250Z"
   },
   {
    "duration": 5162,
    "start_time": "2022-01-15T17:19:53.449Z"
   },
   {
    "duration": 27,
    "start_time": "2022-01-15T17:20:06.359Z"
   },
   {
    "duration": 5,
    "start_time": "2022-01-15T17:34:18.901Z"
   },
   {
    "duration": 40,
    "start_time": "2022-01-15T17:34:18.908Z"
   },
   {
    "duration": 8,
    "start_time": "2022-01-15T17:34:18.952Z"
   },
   {
    "duration": 42,
    "start_time": "2022-01-15T17:34:18.963Z"
   },
   {
    "duration": 5,
    "start_time": "2022-01-15T17:34:19.008Z"
   },
   {
    "duration": 10,
    "start_time": "2022-01-15T17:34:19.015Z"
   },
   {
    "duration": 104,
    "start_time": "2022-01-15T17:34:19.028Z"
   },
   {
    "duration": 5417,
    "start_time": "2022-01-15T17:34:19.136Z"
   },
   {
    "duration": 26,
    "start_time": "2022-01-15T17:34:24.563Z"
   },
   {
    "duration": 13,
    "start_time": "2022-01-15T17:34:29.908Z"
   },
   {
    "duration": 172,
    "start_time": "2022-01-15T17:34:30.928Z"
   },
   {
    "duration": 26,
    "start_time": "2022-01-15T17:34:32.193Z"
   },
   {
    "duration": 264,
    "start_time": "2022-01-16T09:53:35.622Z"
   },
   {
    "duration": 1174,
    "start_time": "2022-01-16T09:53:50.544Z"
   },
   {
    "duration": 32,
    "start_time": "2022-01-16T09:53:51.720Z"
   },
   {
    "duration": 6,
    "start_time": "2022-01-16T09:53:51.754Z"
   },
   {
    "duration": 28,
    "start_time": "2022-01-16T09:53:51.762Z"
   },
   {
    "duration": 3,
    "start_time": "2022-01-16T09:53:51.792Z"
   },
   {
    "duration": 12,
    "start_time": "2022-01-16T09:53:51.797Z"
   },
   {
    "duration": 67,
    "start_time": "2022-01-16T09:53:51.810Z"
   },
   {
    "duration": 3406,
    "start_time": "2022-01-16T09:53:51.879Z"
   },
   {
    "duration": 22,
    "start_time": "2022-01-16T09:53:55.288Z"
   },
   {
    "duration": 11,
    "start_time": "2022-01-16T09:53:55.312Z"
   },
   {
    "duration": 138,
    "start_time": "2022-01-16T09:53:55.325Z"
   },
   {
    "duration": 22,
    "start_time": "2022-01-16T09:53:59.448Z"
   },
   {
    "duration": 20,
    "start_time": "2022-01-16T09:54:31.669Z"
   },
   {
    "duration": 21,
    "start_time": "2022-01-16T09:54:36.394Z"
   },
   {
    "duration": 3,
    "start_time": "2022-01-16T09:55:07.150Z"
   },
   {
    "duration": 28,
    "start_time": "2022-01-16T09:55:07.155Z"
   },
   {
    "duration": 5,
    "start_time": "2022-01-16T09:55:07.185Z"
   },
   {
    "duration": 22,
    "start_time": "2022-01-16T09:55:07.192Z"
   },
   {
    "duration": 3,
    "start_time": "2022-01-16T09:55:07.215Z"
   },
   {
    "duration": 8,
    "start_time": "2022-01-16T09:55:07.220Z"
   },
   {
    "duration": 71,
    "start_time": "2022-01-16T09:55:07.230Z"
   },
   {
    "duration": 3561,
    "start_time": "2022-01-16T09:55:07.303Z"
   },
   {
    "duration": 19,
    "start_time": "2022-01-16T09:55:10.865Z"
   },
   {
    "duration": 8,
    "start_time": "2022-01-16T09:55:10.885Z"
   },
   {
    "duration": 130,
    "start_time": "2022-01-16T09:55:10.895Z"
   },
   {
    "duration": 21,
    "start_time": "2022-01-16T09:55:16.678Z"
   },
   {
    "duration": 14,
    "start_time": "2022-01-16T10:08:02.056Z"
   },
   {
    "duration": 15,
    "start_time": "2022-01-16T10:08:11.901Z"
   },
   {
    "duration": 14,
    "start_time": "2022-01-16T10:08:19.102Z"
   },
   {
    "duration": 14,
    "start_time": "2022-01-16T10:08:31.870Z"
   },
   {
    "duration": 47,
    "start_time": "2022-01-16T10:09:21.676Z"
   },
   {
    "duration": 47,
    "start_time": "2022-01-16T10:10:19.373Z"
   },
   {
    "duration": 44,
    "start_time": "2022-01-16T10:10:30.237Z"
   },
   {
    "duration": 22,
    "start_time": "2022-01-16T10:11:00.797Z"
   },
   {
    "duration": 21,
    "start_time": "2022-01-16T10:11:06.171Z"
   },
   {
    "duration": 320,
    "start_time": "2022-01-16T14:50:06.897Z"
   },
   {
    "duration": 1148,
    "start_time": "2022-01-16T14:50:12.729Z"
   },
   {
    "duration": 32,
    "start_time": "2022-01-16T14:50:13.879Z"
   },
   {
    "duration": 6,
    "start_time": "2022-01-16T14:50:13.913Z"
   },
   {
    "duration": 30,
    "start_time": "2022-01-16T14:50:13.921Z"
   },
   {
    "duration": 3,
    "start_time": "2022-01-16T14:50:13.953Z"
   },
   {
    "duration": 15,
    "start_time": "2022-01-16T14:50:13.958Z"
   },
   {
    "duration": 56,
    "start_time": "2022-01-16T14:50:13.974Z"
   },
   {
    "duration": 3461,
    "start_time": "2022-01-16T14:50:14.033Z"
   },
   {
    "duration": 20,
    "start_time": "2022-01-16T14:50:17.496Z"
   },
   {
    "duration": 26,
    "start_time": "2022-01-16T14:50:17.518Z"
   },
   {
    "duration": 127,
    "start_time": "2022-01-16T14:50:17.546Z"
   },
   {
    "duration": 31,
    "start_time": "2022-01-16T14:50:17.675Z"
   },
   {
    "duration": 242,
    "start_time": "2022-01-16T14:54:10.759Z"
   },
   {
    "duration": 185,
    "start_time": "2022-01-16T14:54:54.430Z"
   },
   {
    "duration": 200,
    "start_time": "2022-01-16T14:55:37.255Z"
   },
   {
    "duration": 404,
    "start_time": "2022-01-16T14:56:33.401Z"
   },
   {
    "duration": 235,
    "start_time": "2022-01-16T14:57:04.502Z"
   },
   {
    "duration": 198,
    "start_time": "2022-01-16T14:57:11.543Z"
   },
   {
    "duration": 250,
    "start_time": "2022-01-16T14:59:20.264Z"
   },
   {
    "duration": 188,
    "start_time": "2022-01-16T14:59:36.005Z"
   },
   {
    "duration": 331,
    "start_time": "2022-01-16T14:59:44.958Z"
   },
   {
    "duration": 6,
    "start_time": "2022-01-16T15:00:47.285Z"
   },
   {
    "duration": 222,
    "start_time": "2022-01-16T15:00:54.683Z"
   },
   {
    "duration": 215,
    "start_time": "2022-01-16T15:01:06.453Z"
   },
   {
    "duration": 189,
    "start_time": "2022-01-16T15:01:38.725Z"
   },
   {
    "duration": 6,
    "start_time": "2022-01-16T15:07:21.329Z"
   },
   {
    "duration": 240,
    "start_time": "2022-01-16T15:07:28.416Z"
   },
   {
    "duration": 5,
    "start_time": "2022-01-16T15:07:39.232Z"
   },
   {
    "duration": 196,
    "start_time": "2022-01-16T15:07:42.800Z"
   },
   {
    "duration": 7,
    "start_time": "2022-01-16T15:09:26.383Z"
   },
   {
    "duration": 6,
    "start_time": "2022-01-16T15:09:33.214Z"
   },
   {
    "duration": 6,
    "start_time": "2022-01-16T15:09:41.167Z"
   },
   {
    "duration": 6,
    "start_time": "2022-01-16T15:10:01.870Z"
   },
   {
    "duration": 6,
    "start_time": "2022-01-16T15:11:19.982Z"
   },
   {
    "duration": 2479,
    "start_time": "2022-01-16T15:15:39.805Z"
   },
   {
    "duration": 2952,
    "start_time": "2022-01-16T15:15:58.699Z"
   },
   {
    "duration": 2588,
    "start_time": "2022-01-16T15:16:39.131Z"
   },
   {
    "duration": 5244,
    "start_time": "2022-01-16T15:16:50.202Z"
   },
   {
    "duration": 3112,
    "start_time": "2022-01-16T15:17:20.094Z"
   },
   {
    "duration": 2491,
    "start_time": "2022-01-16T15:18:16.687Z"
   },
   {
    "duration": 5,
    "start_time": "2022-01-16T15:18:29.696Z"
   },
   {
    "duration": 27,
    "start_time": "2022-01-16T15:18:29.704Z"
   },
   {
    "duration": 6,
    "start_time": "2022-01-16T15:18:29.733Z"
   },
   {
    "duration": 22,
    "start_time": "2022-01-16T15:18:29.742Z"
   },
   {
    "duration": 3,
    "start_time": "2022-01-16T15:18:29.766Z"
   },
   {
    "duration": 8,
    "start_time": "2022-01-16T15:18:29.770Z"
   },
   {
    "duration": 51,
    "start_time": "2022-01-16T15:18:29.780Z"
   },
   {
    "duration": 3181,
    "start_time": "2022-01-16T15:18:29.841Z"
   },
   {
    "duration": 31,
    "start_time": "2022-01-16T15:18:33.024Z"
   },
   {
    "duration": 8,
    "start_time": "2022-01-16T15:18:33.057Z"
   },
   {
    "duration": 119,
    "start_time": "2022-01-16T15:18:33.066Z"
   },
   {
    "duration": 17,
    "start_time": "2022-01-16T15:18:33.186Z"
   },
   {
    "duration": 2474,
    "start_time": "2022-01-16T15:18:38.697Z"
   },
   {
    "duration": 2426,
    "start_time": "2022-01-16T15:18:48.121Z"
   },
   {
    "duration": 3311,
    "start_time": "2022-01-16T15:19:06.857Z"
   },
   {
    "duration": 4,
    "start_time": "2022-01-16T15:20:47.515Z"
   },
   {
    "duration": 4,
    "start_time": "2022-01-16T15:21:10.904Z"
   },
   {
    "duration": 3,
    "start_time": "2022-01-16T15:21:34.072Z"
   },
   {
    "duration": 6,
    "start_time": "2022-01-16T15:21:47.590Z"
   },
   {
    "duration": 2326,
    "start_time": "2022-01-16T15:36:54.241Z"
   },
   {
    "duration": 191,
    "start_time": "2022-01-16T15:44:23.116Z"
   },
   {
    "duration": 197,
    "start_time": "2022-01-16T15:45:39.274Z"
   },
   {
    "duration": 12,
    "start_time": "2022-01-16T15:45:55.561Z"
   },
   {
    "duration": 5,
    "start_time": "2022-01-16T15:47:17.337Z"
   },
   {
    "duration": 209,
    "start_time": "2022-01-16T15:47:39.560Z"
   },
   {
    "duration": 11,
    "start_time": "2022-01-16T16:00:39.265Z"
   },
   {
    "duration": 230,
    "start_time": "2022-01-16T16:01:21.953Z"
   },
   {
    "duration": 206,
    "start_time": "2022-01-16T16:01:39.792Z"
   },
   {
    "duration": 191,
    "start_time": "2022-01-16T16:01:55.903Z"
   },
   {
    "duration": 226,
    "start_time": "2022-01-16T16:02:34.512Z"
   },
   {
    "duration": 10,
    "start_time": "2022-01-16T16:02:55.184Z"
   },
   {
    "duration": 249,
    "start_time": "2022-01-16T16:03:12.111Z"
   },
   {
    "duration": 196,
    "start_time": "2022-01-16T16:04:46.638Z"
   },
   {
    "duration": 5,
    "start_time": "2022-01-16T16:05:07.988Z"
   },
   {
    "duration": 99,
    "start_time": "2022-01-16T16:05:07.995Z"
   },
   {
    "duration": 6,
    "start_time": "2022-01-16T16:05:08.096Z"
   },
   {
    "duration": 23,
    "start_time": "2022-01-16T16:05:08.104Z"
   },
   {
    "duration": 3,
    "start_time": "2022-01-16T16:05:08.129Z"
   },
   {
    "duration": 9,
    "start_time": "2022-01-16T16:05:08.133Z"
   },
   {
    "duration": 52,
    "start_time": "2022-01-16T16:05:08.144Z"
   },
   {
    "duration": 3152,
    "start_time": "2022-01-16T16:05:08.198Z"
   },
   {
    "duration": 18,
    "start_time": "2022-01-16T16:05:11.355Z"
   },
   {
    "duration": 11,
    "start_time": "2022-01-16T16:05:11.375Z"
   },
   {
    "duration": 134,
    "start_time": "2022-01-16T16:05:11.388Z"
   },
   {
    "duration": 21,
    "start_time": "2022-01-16T16:05:11.524Z"
   },
   {
    "duration": 198,
    "start_time": "2022-01-16T16:05:15.167Z"
   },
   {
    "duration": 240,
    "start_time": "2022-01-16T16:05:35.918Z"
   },
   {
    "duration": 198,
    "start_time": "2022-01-16T16:08:21.884Z"
   },
   {
    "duration": 10,
    "start_time": "2022-01-16T16:08:29.699Z"
   },
   {
    "duration": 12,
    "start_time": "2022-01-16T16:10:30.939Z"
   },
   {
    "duration": 5,
    "start_time": "2022-01-16T16:10:45.050Z"
   },
   {
    "duration": 8,
    "start_time": "2022-01-16T16:46:06.439Z"
   },
   {
    "duration": 11,
    "start_time": "2022-01-16T16:50:15.604Z"
   },
   {
    "duration": 1415,
    "start_time": "2022-01-17T09:24:25.324Z"
   },
   {
    "duration": 36,
    "start_time": "2022-01-17T09:24:26.743Z"
   },
   {
    "duration": 9,
    "start_time": "2022-01-17T09:24:26.782Z"
   },
   {
    "duration": 50,
    "start_time": "2022-01-17T09:24:26.793Z"
   },
   {
    "duration": 5,
    "start_time": "2022-01-17T09:24:26.845Z"
   },
   {
    "duration": 14,
    "start_time": "2022-01-17T09:24:26.853Z"
   },
   {
    "duration": 117,
    "start_time": "2022-01-17T09:24:26.869Z"
   },
   {
    "duration": 4917,
    "start_time": "2022-01-17T09:24:26.989Z"
   },
   {
    "duration": 39,
    "start_time": "2022-01-17T09:24:31.912Z"
   },
   {
    "duration": 13,
    "start_time": "2022-01-17T09:24:31.954Z"
   },
   {
    "duration": 195,
    "start_time": "2022-01-17T09:24:31.970Z"
   },
   {
    "duration": 30,
    "start_time": "2022-01-17T09:24:32.168Z"
   },
   {
    "duration": 24,
    "start_time": "2022-01-17T09:24:32.201Z"
   },
   {
    "duration": 5,
    "start_time": "2022-01-17T09:24:32.229Z"
   },
   {
    "duration": 5,
    "start_time": "2022-01-17T09:24:32.237Z"
   },
   {
    "duration": 481,
    "start_time": "2022-01-17T09:24:32.245Z"
   },
   {
    "duration": 5,
    "start_time": "2022-01-17T09:24:55.253Z"
   },
   {
    "duration": 28,
    "start_time": "2022-01-17T09:24:55.262Z"
   },
   {
    "duration": 9,
    "start_time": "2022-01-17T09:24:55.294Z"
   },
   {
    "duration": 40,
    "start_time": "2022-01-17T09:24:55.306Z"
   },
   {
    "duration": 5,
    "start_time": "2022-01-17T09:24:55.348Z"
   },
   {
    "duration": 14,
    "start_time": "2022-01-17T09:24:55.355Z"
   },
   {
    "duration": 99,
    "start_time": "2022-01-17T09:24:55.371Z"
   },
   {
    "duration": 4820,
    "start_time": "2022-01-17T09:24:55.472Z"
   },
   {
    "duration": 43,
    "start_time": "2022-01-17T09:25:00.295Z"
   },
   {
    "duration": 12,
    "start_time": "2022-01-17T09:25:00.341Z"
   },
   {
    "duration": 178,
    "start_time": "2022-01-17T09:25:00.355Z"
   },
   {
    "duration": 29,
    "start_time": "2022-01-17T09:25:00.536Z"
   },
   {
    "duration": 4,
    "start_time": "2022-01-17T09:25:00.567Z"
   },
   {
    "duration": 8,
    "start_time": "2022-01-17T09:25:00.573Z"
   },
   {
    "duration": 19,
    "start_time": "2022-01-17T09:25:00.583Z"
   },
   {
    "duration": 348,
    "start_time": "2022-01-17T09:25:00.604Z"
   },
   {
    "duration": 7,
    "start_time": "2022-01-17T09:25:08.614Z"
   },
   {
    "duration": 9,
    "start_time": "2022-01-17T09:25:22.808Z"
   },
   {
    "duration": 7,
    "start_time": "2022-01-17T09:25:26.128Z"
   },
   {
    "duration": 9,
    "start_time": "2022-01-17T09:25:31.217Z"
   },
   {
    "duration": 1284,
    "start_time": "2022-01-17T18:50:14.198Z"
   },
   {
    "duration": 62,
    "start_time": "2022-01-17T18:50:20.890Z"
   },
   {
    "duration": 103,
    "start_time": "2022-01-17T18:50:20.954Z"
   },
   {
    "duration": 5,
    "start_time": "2022-01-17T18:50:21.059Z"
   },
   {
    "duration": 26,
    "start_time": "2022-01-17T18:50:21.066Z"
   },
   {
    "duration": 3,
    "start_time": "2022-01-17T18:50:21.094Z"
   },
   {
    "duration": 15,
    "start_time": "2022-01-17T18:50:21.099Z"
   },
   {
    "duration": 54,
    "start_time": "2022-01-17T18:50:21.115Z"
   },
   {
    "duration": 3424,
    "start_time": "2022-01-17T18:50:21.171Z"
   },
   {
    "duration": 20,
    "start_time": "2022-01-17T18:50:24.597Z"
   },
   {
    "duration": 9,
    "start_time": "2022-01-17T18:50:24.618Z"
   },
   {
    "duration": 130,
    "start_time": "2022-01-17T18:50:24.628Z"
   },
   {
    "duration": 20,
    "start_time": "2022-01-17T18:50:24.759Z"
   },
   {
    "duration": 2,
    "start_time": "2022-01-17T18:50:24.791Z"
   },
   {
    "duration": 160,
    "start_time": "2022-01-17T18:50:41.403Z"
   },
   {
    "duration": 44,
    "start_time": "2022-01-17T18:50:56.077Z"
   },
   {
    "duration": 132,
    "start_time": "2022-01-17T18:51:02.174Z"
   },
   {
    "duration": 194,
    "start_time": "2022-01-17T18:51:17.710Z"
   },
   {
    "duration": 149,
    "start_time": "2022-01-17T18:51:41.085Z"
   },
   {
    "duration": 4,
    "start_time": "2022-01-17T18:52:02.861Z"
   },
   {
    "duration": 5,
    "start_time": "2022-01-17T18:52:15.902Z"
   },
   {
    "duration": 3,
    "start_time": "2022-01-17T18:55:08.219Z"
   },
   {
    "duration": 4,
    "start_time": "2022-01-17T18:55:16.860Z"
   },
   {
    "duration": 5,
    "start_time": "2022-01-17T18:55:26.187Z"
   },
   {
    "duration": 123,
    "start_time": "2022-01-17T18:55:45.725Z"
   },
   {
    "duration": 4,
    "start_time": "2022-01-17T18:56:45.195Z"
   },
   {
    "duration": 42,
    "start_time": "2022-01-17T18:57:35.226Z"
   },
   {
    "duration": 161,
    "start_time": "2022-01-17T18:57:40.474Z"
   },
   {
    "duration": 287,
    "start_time": "2022-01-17T18:58:27.743Z"
   },
   {
    "duration": 4,
    "start_time": "2022-01-17T18:58:36.396Z"
   },
   {
    "duration": 5,
    "start_time": "2022-01-17T18:58:44.041Z"
   },
   {
    "duration": 6,
    "start_time": "2022-01-17T19:00:00.953Z"
   },
   {
    "duration": 9,
    "start_time": "2022-01-17T19:00:07.608Z"
   },
   {
    "duration": 145,
    "start_time": "2022-01-17T19:00:21.783Z"
   },
   {
    "duration": 4176,
    "start_time": "2022-01-17T19:00:55.274Z"
   },
   {
    "duration": 6,
    "start_time": "2022-01-17T19:01:17.914Z"
   },
   {
    "duration": 6,
    "start_time": "2022-01-17T19:02:16.216Z"
   },
   {
    "duration": 5,
    "start_time": "2022-01-17T19:05:20.542Z"
   },
   {
    "duration": 292,
    "start_time": "2022-01-17T19:05:40.294Z"
   },
   {
    "duration": 391,
    "start_time": "2022-01-17T19:05:46.471Z"
   },
   {
    "duration": 196,
    "start_time": "2022-01-17T19:05:55.318Z"
   },
   {
    "duration": 5,
    "start_time": "2022-01-17T19:05:59.910Z"
   },
   {
    "duration": 6,
    "start_time": "2022-01-17T19:06:05.814Z"
   },
   {
    "duration": 130,
    "start_time": "2022-01-17T19:06:32.378Z"
   },
   {
    "duration": 6,
    "start_time": "2022-01-17T19:06:40.820Z"
   },
   {
    "duration": 5,
    "start_time": "2022-01-17T19:06:46.900Z"
   },
   {
    "duration": 5,
    "start_time": "2022-01-17T19:06:50.389Z"
   },
   {
    "duration": 7,
    "start_time": "2022-01-17T19:07:11.366Z"
   },
   {
    "duration": 6,
    "start_time": "2022-01-17T19:07:16.533Z"
   },
   {
    "duration": 6,
    "start_time": "2022-01-17T19:08:11.044Z"
   },
   {
    "duration": 141,
    "start_time": "2022-01-17T19:19:11.724Z"
   },
   {
    "duration": 6,
    "start_time": "2022-01-17T19:19:15.598Z"
   },
   {
    "duration": 6,
    "start_time": "2022-01-17T19:20:37.293Z"
   },
   {
    "duration": 6,
    "start_time": "2022-01-17T19:21:20.254Z"
   },
   {
    "duration": 5,
    "start_time": "2022-01-17T19:21:23.133Z"
   },
   {
    "duration": 5,
    "start_time": "2022-01-17T19:21:26.450Z"
   },
   {
    "duration": 131,
    "start_time": "2022-01-17T19:21:55.595Z"
   },
   {
    "duration": 127,
    "start_time": "2022-01-17T19:22:02.780Z"
   },
   {
    "duration": 5,
    "start_time": "2022-01-17T19:24:36.363Z"
   },
   {
    "duration": 5,
    "start_time": "2022-01-17T19:26:03.405Z"
   },
   {
    "duration": 5,
    "start_time": "2022-01-17T19:32:21.747Z"
   },
   {
    "duration": 46,
    "start_time": "2022-01-17T19:32:21.754Z"
   },
   {
    "duration": 7,
    "start_time": "2022-01-17T19:32:21.802Z"
   },
   {
    "duration": 45,
    "start_time": "2022-01-17T19:32:21.811Z"
   },
   {
    "duration": 4,
    "start_time": "2022-01-17T19:32:21.857Z"
   },
   {
    "duration": 26,
    "start_time": "2022-01-17T19:32:21.863Z"
   },
   {
    "duration": 55,
    "start_time": "2022-01-17T19:32:21.892Z"
   },
   {
    "duration": 3265,
    "start_time": "2022-01-17T19:32:21.949Z"
   },
   {
    "duration": 19,
    "start_time": "2022-01-17T19:32:25.216Z"
   },
   {
    "duration": 7,
    "start_time": "2022-01-17T19:32:25.237Z"
   },
   {
    "duration": 127,
    "start_time": "2022-01-17T19:32:25.246Z"
   },
   {
    "duration": 27,
    "start_time": "2022-01-17T19:32:25.374Z"
   },
   {
    "duration": 127,
    "start_time": "2022-01-17T19:33:21.095Z"
   },
   {
    "duration": 4,
    "start_time": "2022-01-17T19:33:48.461Z"
   },
   {
    "duration": 25,
    "start_time": "2022-01-17T19:33:48.468Z"
   },
   {
    "duration": 6,
    "start_time": "2022-01-17T19:33:48.495Z"
   },
   {
    "duration": 23,
    "start_time": "2022-01-17T19:33:48.503Z"
   },
   {
    "duration": 3,
    "start_time": "2022-01-17T19:33:48.528Z"
   },
   {
    "duration": 10,
    "start_time": "2022-01-17T19:33:48.533Z"
   },
   {
    "duration": 83,
    "start_time": "2022-01-17T19:33:48.545Z"
   },
   {
    "duration": 3333,
    "start_time": "2022-01-17T19:33:48.629Z"
   },
   {
    "duration": 20,
    "start_time": "2022-01-17T19:33:51.964Z"
   },
   {
    "duration": 11,
    "start_time": "2022-01-17T19:33:51.985Z"
   },
   {
    "duration": 114,
    "start_time": "2022-01-17T19:33:51.998Z"
   },
   {
    "duration": 21,
    "start_time": "2022-01-17T19:33:52.113Z"
   },
   {
    "duration": 5,
    "start_time": "2022-01-17T19:33:52.136Z"
   },
   {
    "duration": 287,
    "start_time": "2022-01-17T19:34:22.566Z"
   },
   {
    "duration": 292,
    "start_time": "2022-01-17T19:35:16.955Z"
   },
   {
    "duration": 282,
    "start_time": "2022-01-17T19:35:36.262Z"
   },
   {
    "duration": 168,
    "start_time": "2022-01-17T19:36:44.997Z"
   },
   {
    "duration": 189,
    "start_time": "2022-01-17T19:36:55.509Z"
   },
   {
    "duration": 169,
    "start_time": "2022-01-17T19:36:59.028Z"
   },
   {
    "duration": 184,
    "start_time": "2022-01-17T19:37:21.279Z"
   },
   {
    "duration": 278,
    "start_time": "2022-01-17T19:38:01.593Z"
   },
   {
    "duration": 185,
    "start_time": "2022-01-17T19:38:11.318Z"
   },
   {
    "duration": 250,
    "start_time": "2022-01-17T19:38:26.725Z"
   },
   {
    "duration": 5,
    "start_time": "2022-01-17T19:39:14.500Z"
   },
   {
    "duration": 6,
    "start_time": "2022-01-17T19:44:42.736Z"
   },
   {
    "duration": 6,
    "start_time": "2022-01-17T19:44:46.465Z"
   },
   {
    "duration": 6,
    "start_time": "2022-01-17T19:44:50.480Z"
   },
   {
    "duration": 176,
    "start_time": "2022-01-17T19:44:55.058Z"
   },
   {
    "duration": 20,
    "start_time": "2022-01-17T19:45:17.536Z"
   }
  ],
  "kernelspec": {
   "display_name": "Python 3 (ipykernel)",
   "language": "python",
   "name": "python3"
  },
  "language_info": {
   "codemirror_mode": {
    "name": "ipython",
    "version": 3
   },
   "file_extension": ".py",
   "mimetype": "text/x-python",
   "name": "python",
   "nbconvert_exporter": "python",
   "pygments_lexer": "ipython3",
   "version": "3.8.9"
  },
  "toc": {
   "base_numbering": 1,
   "nav_menu": {},
   "number_sections": true,
   "sideBar": true,
   "skip_h1_title": true,
   "title_cell": "Table of Contents",
   "title_sidebar": "Contents",
   "toc_cell": false,
   "toc_position": {},
   "toc_section_display": true,
   "toc_window_display": false
  }
 },
 "nbformat": 4,
 "nbformat_minor": 4
}
